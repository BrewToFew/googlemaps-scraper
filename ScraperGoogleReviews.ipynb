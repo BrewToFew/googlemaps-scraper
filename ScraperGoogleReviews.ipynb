{
 "cells": [
  {
   "cell_type": "code",
   "execution_count": 50,
   "metadata": {},
   "outputs": [],
   "source": [
    "from selenium import webdriver\n",
    "import time\n",
    "from bs4 import BeautifulSoup\n",
    "import pandas as pd\n",
    "\n",
    "driver = webdriver.Chrome()\n",
    "#London Victoria & Albert Museum URL\n",
    "url = 'https://goo.gl/maps/2KqT5ujEkXt1HYnG9'\n",
    "driver.get(url)\n",
    "driver.find_element_by_xpath('//*[@id=\"yDmH0d\"]/c-wiz/div/div/div/div[2]/div[1]/div[3]/div[1]/div[1]/form[2]/div/div/button').click()\n",
    "time.sleep(3)\n",
    "\n",
    "# Find the total number of reviews\n",
    "total_number_of_reviews = driver.find_element_by_xpath('//*[@id=\"QA0Szd\"]/div/div/div[1]/div[2]/div/div[1]/div/div/div[2]/div[1]/div[1]/div[2]/div/div[1]/div[2]/span[2]/span[1]/button').text\n",
    "total_number_of_reviews = total_number_of_reviews.split(' ')[0]\n",
    "total_number_of_reviews = int(total_number_of_reviews.replace('.', ''))\n",
    "\n",
    "# Open the review page\n",
    "driver.find_element_by_xpath('//*[@id=\"QA0Szd\"]/div/div/div[1]/div[2]/div/div[1]/div/div/div[2]/div[1]/div[1]/div[2]/div/div[1]/div[2]/span[2]/span[1]/button').click()\n",
    "time.sleep(3)\n",
    "\n",
    "# Scroll down all the way\n",
    "# scrollable_div = driver.find_element_by_xpath('//*[@id=\"QA0Szd\"]/div/div/div[1]/div[2]/div/div[1]/div/div/div[2]')\n",
    "# for i in range(0, round(total_number_of_reviews / 10 - 1)):\n",
    "#     driver.execute_script('arguments[0].scrollTop = arguments[0].scrollHeight', scrollable_div)\n",
    "#     time.sleep(1)\n",
    "\n",
    "response = BeautifulSoup(driver.page_source, 'html.parser')\n"
   ]
  },
  {
   "cell_type": "code",
   "execution_count": 51,
   "metadata": {},
   "outputs": [
    {
     "data": {
      "text/plain": [
       "'Toverland - Google Maps'"
      ]
     },
     "execution_count": 51,
     "metadata": {},
     "output_type": "execute_result"
    }
   ],
   "source": [
    "response.head.title.get_text()"
   ]
  },
  {
   "cell_type": "code",
   "execution_count": 101,
   "metadata": {},
   "outputs": [
    {
     "ename": "KeyError",
     "evalue": "'aria-label'",
     "output_type": "error",
     "traceback": [
      "\u001b[1;31m---------------------------------------------------------------------------\u001b[0m",
      "\u001b[1;31mKeyError\u001b[0m                                  Traceback (most recent call last)",
      "\u001b[1;32m~\\AppData\\Local\\Temp\\ipykernel_12512\\1241139917.py\u001b[0m in \u001b[0;36m<module>\u001b[1;34m\u001b[0m\n\u001b[0;32m     21\u001b[0m     \u001b[0mreview_dict\u001b[0m\u001b[1;33m[\u001b[0m\u001b[1;34m'ID'\u001b[0m\u001b[1;33m]\u001b[0m\u001b[1;33m.\u001b[0m\u001b[0mappend\u001b[0m\u001b[1;33m(\u001b[0m\u001b[0mr\u001b[0m\u001b[1;33m[\u001b[0m\u001b[1;34m'data-review-id'\u001b[0m\u001b[1;33m]\u001b[0m\u001b[1;33m)\u001b[0m\u001b[1;33m\u001b[0m\u001b[1;33m\u001b[0m\u001b[0m\n\u001b[0;32m     22\u001b[0m     \u001b[0mreview_dict\u001b[0m\u001b[1;33m[\u001b[0m\u001b[1;34m'Rate'\u001b[0m\u001b[1;33m]\u001b[0m\u001b[1;33m.\u001b[0m\u001b[0mappend\u001b[0m\u001b[1;33m(\u001b[0m\u001b[0mr\u001b[0m\u001b[1;33m.\u001b[0m\u001b[0mfind\u001b[0m\u001b[1;33m(\u001b[0m\u001b[0mclass_\u001b[0m \u001b[1;33m=\u001b[0m \u001b[1;34m\"kvMYJc\"\u001b[0m\u001b[1;33m)\u001b[0m\u001b[1;33m[\u001b[0m\u001b[1;34m'aria-label'\u001b[0m\u001b[1;33m]\u001b[0m\u001b[1;33m)\u001b[0m\u001b[1;33m\u001b[0m\u001b[1;33m\u001b[0m\u001b[0m\n\u001b[1;32m---> 23\u001b[1;33m     \u001b[0mreview_dict\u001b[0m\u001b[1;33m[\u001b[0m\u001b[1;34m'Author'\u001b[0m\u001b[1;33m]\u001b[0m\u001b[1;33m.\u001b[0m\u001b[0mappend\u001b[0m\u001b[1;33m(\u001b[0m\u001b[0mr\u001b[0m\u001b[1;33m[\u001b[0m\u001b[1;34m'aria-label'\u001b[0m\u001b[1;33m]\u001b[0m\u001b[1;33m)\u001b[0m\u001b[1;33m\u001b[0m\u001b[1;33m\u001b[0m\u001b[0m\n\u001b[0m\u001b[0;32m     24\u001b[0m     \u001b[0mreview_dict\u001b[0m\u001b[1;33m[\u001b[0m\u001b[1;34m'Text'\u001b[0m\u001b[1;33m]\u001b[0m\u001b[1;33m.\u001b[0m\u001b[0mappend\u001b[0m\u001b[1;33m(\u001b[0m\u001b[0mr\u001b[0m\u001b[1;33m.\u001b[0m\u001b[0mfind\u001b[0m\u001b[1;33m(\u001b[0m\u001b[0mclass_\u001b[0m \u001b[1;33m=\u001b[0m \u001b[1;34m\"wiI7pd\"\u001b[0m\u001b[1;33m)\u001b[0m\u001b[1;33m.\u001b[0m\u001b[0mtext\u001b[0m\u001b[1;33m)\u001b[0m\u001b[1;33m\u001b[0m\u001b[1;33m\u001b[0m\u001b[0m\n\u001b[0;32m     25\u001b[0m \u001b[1;33m\u001b[0m\u001b[0m\n",
      "\u001b[1;32m~\\AppData\\Local\\Programs\\Python\\Python37-32\\lib\\site-packages\\bs4\\element.py\u001b[0m in \u001b[0;36m__getitem__\u001b[1;34m(self, key)\u001b[0m\n\u001b[0;32m   1014\u001b[0m         \"\"\"tag[key] returns the value of the 'key' attribute for the tag,\n\u001b[0;32m   1015\u001b[0m         and throws an exception if it's not there.\"\"\"\n\u001b[1;32m-> 1016\u001b[1;33m         \u001b[1;32mreturn\u001b[0m \u001b[0mself\u001b[0m\u001b[1;33m.\u001b[0m\u001b[0mattrs\u001b[0m\u001b[1;33m[\u001b[0m\u001b[0mkey\u001b[0m\u001b[1;33m]\u001b[0m\u001b[1;33m\u001b[0m\u001b[1;33m\u001b[0m\u001b[0m\n\u001b[0m\u001b[0;32m   1017\u001b[0m \u001b[1;33m\u001b[0m\u001b[0m\n\u001b[0;32m   1018\u001b[0m     \u001b[1;32mdef\u001b[0m \u001b[0m__iter__\u001b[0m\u001b[1;33m(\u001b[0m\u001b[0mself\u001b[0m\u001b[1;33m)\u001b[0m\u001b[1;33m:\u001b[0m\u001b[1;33m\u001b[0m\u001b[1;33m\u001b[0m\u001b[0m\n",
      "\u001b[1;31mKeyError\u001b[0m: 'aria-label'"
     ]
    }
   ],
   "source": [
    "test = pd.DataFrame(data = response.find_all(class_=\"wiI7pd\"))\n",
    "\n",
    "\n",
    "\n",
    "# response.find_all(class_ = \"d4r55\")\n",
    "# response.find_all(class_ = \"RfnDt\")\n",
    "\n",
    "# response.find('span', class_ = \"kvMYJc\")[\"aria-label\"]\n",
    "\n",
    "# t = response.find('span', class_='d4r55')\n",
    "reviews = response.select('[data-review-id]')\n",
    "\n",
    "review_dict = {\n",
    "    'ID' : [],\n",
    "    'Rate' : [],\n",
    "    'Author' : [],\n",
    "    'Text' : []\n",
    "}\n",
    "\n",
    "for r in reviews:\n",
    "    review_dict['ID'].append(r['data-review-id'])\n",
    "    review_dict['Rate'].append(r.find(class_ = \"kvMYJc\")['aria-label'])\n",
    "    review_dict['Author'].append(r['aria-label'])\n",
    "    review_dict['Text'].append(r.find(class_ = \"wiI7pd\").text)\n",
    "\n",
    "# print(r)\n"
   ]
  },
  {
   "cell_type": "code",
   "execution_count": 168,
   "metadata": {},
   "outputs": [
    {
     "data": {
      "text/plain": [
       "['ChdDSUhNMG9nS0VJQ0FnSURXNE9DWjR3RRAB',\n",
       " 'ChdDSUhNMG9nS0VJQ0FnSUR1aHRuZXFBRRAB',\n",
       " 'ChZDSUhNMG9nS0VJQ0FnSUR1OVpYMUpREAE',\n",
       " 'ChZDSUhNMG9nS0VJQ0FnSUMtdU5LSER3EAE',\n",
       " 'ChZDSUhNMG9nS0VJQ0FnSUR1azllelVREAE',\n",
       " 'ChdDSUhNMG9nS0VJQ0FnSURPMDZYQ29nRRAB',\n",
       " 'ChZDSUhNMG9nS0VJQ0FnSUN1dzlLVVV3EAE',\n",
       " 'ChZDSUhNMG9nS0VJQ0FnSUR1OGUtd1ZnEAE',\n",
       " 'ChdDSUhNMG9nS0VJQ0FnSURldi1tSjZRRRAB',\n",
       " 'ChdDSUhNMG9nS0VJQ0FnSURtdnFUWnBBRRAB']"
      ]
     },
     "execution_count": 168,
     "metadata": {},
     "output_type": "execute_result"
    }
   ],
   "source": [
    "# Pull all possible review IDs\n",
    "rows = int(len(response.select('[data-review-id]')))\n",
    "ids = []\n",
    "for i in range(0, rows):\n",
    "    ids.append(response.select('[data-review-id]')[i]['data-review-id'])\n",
    "ids <- list(set(ids))"
   ]
  },
  {
   "cell_type": "code",
   "execution_count": 130,
   "metadata": {},
   "outputs": [],
   "source": [
    "reviews = response.find('div', '[data-review-id]')\n",
    "\n",
    "reviews\n"
   ]
  },
  {
   "cell_type": "code",
   "execution_count": 131,
   "metadata": {},
   "outputs": [
    {
     "data": {
      "text/plain": [
       "<div aria-label=\"Tessa (Tessa.T.)\" class=\"jftiEf fontBodyMedium\" data-js-log-root=\"\" data-review-id=\"ChdDSUhNMG9nS0VJQ0FnSUR1aHRuZXFBRRAB\" jsan=\"t-4VhXSdTzr88,7.jftiEf,7.fontBodyMedium,0.aria-label,0.data-review-id,0.jslog\" jslog=\"21866;metadata:WyIwYWhVS0V3aTdfNzdRaUliN0FoV2JYX0VESGViZUE0WVE0UjRJQWlnQSJd\" jstcache=\"906\"> <div data-review-id=\"ChdDSUhNMG9nS0VJQ0FnSUR1aHRuZXFBRRAB\" jsaction=\"mouseover:pane.review.in;mouseout:pane.review.out\" jsan=\"0.data-review-id,22.jsaction\" jstcache=\"606\"> <div jstcache=\"607\" style=\"display:none\"></div> <div jstcache=\"608\" style=\"display:none\"> </div> <div class=\"jJc9Ad\" jsan=\"7.jJc9Ad\" jstcache=\"609\"> <div jstcache=\"610\"> <a aria-label=\"Foto van Tessa (Tessa.T.)\" class=\"WEBjve\" href=\"https://www.google.com/maps/contrib/113707742654257983387/reviews?hl=nl\" jsan=\"7.WEBjve,8.href,0.jslog,0.aria-label,0.target,t-ulS6GVkCn2o\" jslog=\"95010;track:click;metadata:W251bGwsIixBT3ZWYXcxYUc5NGdxSDh1RXZlVXk0bWVZMXpRLCwwYWhVS0V3aTdfNzdRaUliN0FoV2JYX0VESGViZUE0WVE0aDRJQkNnQiwiXQ==;mutable:true\" jstcache=\"802\" target=\"_blank\"> <img alt=\"\" class=\"NBa7we\" jsan=\"7.NBa7we,8.src,0.alt\" jstcache=\"807\" src=\"https://lh3.googleusercontent.com/a-/ACNPEu86BmV86yBlWkqQlSuMxRmfi1h-6m54_90kqhM3pA=w36-h36-p-c0x00000000-rp-mo-br100\"/> <span jstcache=\"808\" style=\"display:none\"></span> </a> <img alt=\"Foto van \" jsan=\"0.alt\" jstcache=\"803\" style=\"display:none\"/> </div> <div class=\"GHT2ce NsCY4\" jsan=\"7.GHT2ce,7.NsCY4\" jstcache=\"611\"> <div class=\"rB42Be\" jstcache=\"612\"></div> <div style=\"position:relative\"> <div class=\"WNxzHc qLhwHc\" jsan=\"7.WNxzHc,7.qLhwHc,t-_FLNW9QkTD0\" jstcache=\"613\"> <a href=\"https://www.google.com/maps/contrib/113707742654257983387/reviews?hl=nl\" jsan=\"8.href,0.jslog,0.target,t-tFSr5es4BxY\" jslog=\"95010;track:click;metadata:W251bGwsIixBT3ZWYXcxYUc5NGdxSDh1RXZlVXk0bWVZMXpRLCwwYWhVS0V3aTdfNzdRaUliN0FoV2JYX0VESGViZUE0WVE0aDRJQkNnQiwiXQ==;mutable:true\" jstcache=\"810\" target=\"_blank\"> <div class=\"d4r55\" jsan=\"7.d4r55,t-nj2V4y-RWyo\" jstcache=\"813\"> <span jstcache=\"816\">Tessa (Tessa.T.)</span> </div> <div class=\"RfnDt\" jsan=\"7.RfnDt,t-AmpbsS9OL2U\" jstcache=\"814\"><span jstcache=\"818\" style=\"display:none\">Local Guide</span><span jstcache=\"819\">2 reviews</span></div> </a> <div jstcache=\"811\" style=\"display:none\"></div> </div> <div class=\"X1FxEd fzE5Re\" jsan=\"7.X1FxEd,7.fzE5Re\" jstcache=\"614\"></div> <button aria-label=\"Acties voor de review van Tessa (Tessa.T.)\" class=\"PP3Y3d S1qRNe\" data-review-id=\"ChdDSUhNMG9nS0VJQ0FnSUR1aHRuZXFBRRAB\" data-tooltip=\"Acties voor de review van Tessa (Tessa.T.)\" jsaction=\"pane.review.actionMenu;keydown:pane.review.actionMenu;focus:pane.focusTooltip;blur:pane.blurTooltip\" jsan=\"7.PP3Y3d,7.S1qRNe,0.data-review-id,0.jslog,0.aria-label,0.data-tooltip,22.jsaction,t-DjGGGQWZC8c\" jslog=\"14326;track:click;metadata:WyIwYWhVS0V3aTdfNzdRaUliN0FoV2JYX0VESGViZUE0WVE0UjRJQWlnQSJd\" jstcache=\"615\"> <img alt=\"\" class=\"eaLgGf\" jstcache=\"800\" src=\"//www.gstatic.com/images/icons/material/system_gm/1x/more_vert_black_18dp.png\"/> </button> </div> </div> <div class=\"ZeX5yc\" jstcache=\"616\"></div> <div class=\"GHT2ce\" jstcache=\"617\"> <div class=\"DU9Pgb\"> <span jstcache=\"622\" style=\"display:none\"></span> <span aria-label=\" 4 sterren \" class=\"kvMYJc\" jsan=\"7.kvMYJc,0.aria-label,0.role,t-1xcf3_7ROhA\" jstcache=\"623\" role=\"img\"> <img alt=\"\" class=\"hCCjke vzX5Ic\" jsan=\"7.hCCjke,7.vzX5Ic,8.src,0.alt\" jsinstance=\"0\" jstcache=\"667\" src=\"//maps.gstatic.com/consumer/images/icons/2x/ic_star_rate_14.png\"/><img alt=\"\" class=\"hCCjke vzX5Ic\" jsan=\"7.hCCjke,7.vzX5Ic,8.src,0.alt\" jsinstance=\"1\" jstcache=\"667\" src=\"//maps.gstatic.com/consumer/images/icons/2x/ic_star_rate_14.png\"/><img alt=\"\" class=\"hCCjke vzX5Ic\" jsan=\"7.hCCjke,7.vzX5Ic,8.src,0.alt\" jsinstance=\"2\" jstcache=\"667\" src=\"//maps.gstatic.com/consumer/images/icons/2x/ic_star_rate_14.png\"/><img alt=\"\" class=\"hCCjke vzX5Ic\" jsan=\"7.hCCjke,7.vzX5Ic,8.src,0.alt\" jsinstance=\"3\" jstcache=\"667\" src=\"//maps.gstatic.com/consumer/images/icons/2x/ic_star_rate_14.png\"/><img alt=\"\" class=\"hCCjke\" jsan=\"7.hCCjke,8.src,0.alt\" jsinstance=\"*4\" jstcache=\"667\" src=\"//maps.gstatic.com/consumer/images/icons/2x/ic_star_rate_empty_14.png\"/> </span> <span class=\"rsqaWe\" jsan=\"t-72g3O_JHSEg,7.rsqaWe\" jstcache=\"624\">2 maanden geleden</span> <div jstcache=\"625\" style=\"display:none\">Nieuw</div> <div class=\"ma13Db\" jstcache=\"626\"></div> </div> <div class=\"MyEned\" id=\"ChdDSUhNMG9nS0VJQ0FnSUR1aHRuZXFBRRAB\" jsan=\"7.MyEned,0.id,0.tabindex\" jsinstance=\"*0\" jstcache=\"627\" tabindex=\"-1\"> <span jsan=\"t-Q4-IM6ddV_o,5.display\" jstcache=\"628\" style=\"display:none\"></span> <span class=\"wiI7pd\" jsan=\"7.wiI7pd\" jstcache=\"629\">Gezellig dag gehad, wij waren er op vrijdag 12 augustus, midden in de zomervakantie maar wel met 36 graden. Verrassend rustig in het park. wachttijden bij attracties waren max. 15 min denk ik. en omdat het park langer open is (tot 9u) …</span> </div> <div jstcache=\"630\" style=\"display:none\"></div> <jsl jstcache=\"631\"> <button aria-controls=\"ChdDSUhNMG9nS0VJQ0FnSUR1aHRuZXFBRRAB\" aria-expanded=\"false\" aria-label=\"Meer\" class=\"w8nwRe kyuRq\" data-review-id=\"ChdDSUhNMG9nS0VJQ0FnSUR1aHRuZXFBRRAB\" jsaction=\"pane.review.expandReview\" jsan=\"7.w8nwRe,7.kyuRq,0.aria-controls,0.data-review-id,0.jslog,0.aria-label,0.aria-expanded,22.jsaction\" jslog=\"63707;track:click;metadata:WyIwYWhVS0V3aTdfNzdRaUliN0FoV2JYX0VESGViZUE0WVE0UjRJQWlnQSJd\" jstcache=\"780\">Meer</button> <a jstcache=\"781\" style=\"display:none\"></a> </jsl> <div jstcache=\"632\" style=\"display:none\"></div> <span jstcache=\"633\" style=\"display:none\"></span> <div jstcache=\"634\" style=\"display:none\"></div> <div class=\"KtCyie\" jsan=\"7.KtCyie,t-upDpcybThQM\" jstcache=\"635\"> <button aria-label=\"Foto 1 in de review van Tessa (Tessa.T.)\" class=\"Tya61d\" data-photo-index=\"0\" data-review-id=\"ChdDSUhNMG9nS0VJQ0FnSUR1aHRuZXFBRRAB\" data-tooltip=\"\" jsaction=\"pane.review.openPhoto;keydown:pane.review.openPhoto;focus:pane.focusTooltip;blur:pane.blurTooltip\" jsan=\"7.Tya61d,0.data-photo-index,0.data-review-id,0.data-tooltip,5.background-image,5.width,5.padding-top,5.margin-right,0.jsaction,0.aria-label,t-OHhk6wkarjE\" jsinstance=\"0\" jstcache=\"685\" style=\"background-image:url('https://lh5.googleusercontent.com/p/AF1QipN3DGcZmw26yOYoXWiKMNSHCT0hfK_2FTuDG9Jf=w300-h225-p-k-no');width:calc(50% - 1px);padding-top:calc(37.5% - 1px);margin-right:2px\"> <div jstcache=\"715\" style=\"display:none\"></div> <div jstcache=\"716\" style=\"display:none\"></div> <div jstcache=\"717\" style=\"display:none\"></div> </button><button aria-label=\"Foto 2 in de review van Tessa (Tessa.T.)\" class=\"Tya61d\" data-photo-index=\"1\" data-review-id=\"ChdDSUhNMG9nS0VJQ0FnSUR1aHRuZXFBRRAB\" data-tooltip=\"\" jsaction=\"pane.review.openPhoto;keydown:pane.review.openPhoto;focus:pane.focusTooltip;blur:pane.blurTooltip\" jsan=\"7.Tya61d,0.data-photo-index,0.data-review-id,0.data-tooltip,5.background-image,5.width,5.padding-top,0.jsaction,0.aria-label,t-OHhk6wkarjE\" jsinstance=\"1\" jstcache=\"685\" style=\"background-image:url('https://lh5.googleusercontent.com/p/AF1QipMZdTggm-jjpWbljhwdqA2zh8UZ3w_v_3EBnB22=w300-h225-p-k-no');width:calc(50% - 1px);padding-top:calc(37.5% - 1px)\"> <div jstcache=\"715\" style=\"display:none\"></div> <div jstcache=\"716\" style=\"display:none\"></div> <div jstcache=\"717\" style=\"display:none\"></div> </button><button aria-label=\"Foto 3 in de review van Tessa (Tessa.T.)\" class=\"Tya61d\" data-photo-index=\"2\" data-review-id=\"ChdDSUhNMG9nS0VJQ0FnSUR1aHRuZXFBRRAB\" data-tooltip=\"\" jsaction=\"pane.review.openPhoto;keydown:pane.review.openPhoto;focus:pane.focusTooltip;blur:pane.blurTooltip\" jsan=\"7.Tya61d,0.data-photo-index,0.data-review-id,0.data-tooltip,5.background-image,5.width,5.padding-top,5.margin-right,5.margin-top,0.jsaction,0.aria-label,t-OHhk6wkarjE\" jsinstance=\"2\" jstcache=\"685\" style=\"background-image:url('https://lh5.googleusercontent.com/p/AF1QipPpTm0F9W6beVZcSn1bkaprqb2acr3QFzKfvX6J=w300-h225-p-k-no');width:calc(50% - 1px);padding-top:calc(37.5% - 1px);margin-right:2px;margin-top:2px\"> <div jstcache=\"715\" style=\"display:none\"></div> <div jstcache=\"716\" style=\"display:none\"></div> <div jstcache=\"717\" style=\"display:none\"></div> </button><button aria-label=\"+ nog 5 foto's in de review van Tessa (Tessa.T.)\" class=\"Tya61d\" data-photo-index=\"3\" data-review-id=\"ChdDSUhNMG9nS0VJQ0FnSUR1aHRuZXFBRRAB\" data-tooltip=\"\" jsaction=\"pane.review.showMorePhotos;keydown:pane.review.showMorePhotos;focus:pane.focusTooltip;blur:pane.blurTooltip\" jsan=\"7.Tya61d,0.data-photo-index,0.data-review-id,0.data-tooltip,5.background-image,5.width,5.padding-top,5.margin-top,0.jsaction,0.aria-label,t-OHhk6wkarjE\" jsinstance=\"3\" jstcache=\"685\" style=\"background-image:url('https://lh5.googleusercontent.com/p/AF1QipOsnnuDBEj-pxZvVo0T7Efqb7AGfi3uJ-3jDNuS=w300-h225-p-k-no');width:calc(50% - 1px);padding-top:calc(37.5% - 1px);margin-top:2px\"> <div jstcache=\"715\" style=\"display:none\"></div> <div class=\"Tap5If\" jsan=\"7.Tap5If,t-VjZE1UQjUJ8\" jstcache=\"716\">+<span jstcache=\"719\">5</span></div> <div jstcache=\"717\" style=\"display:none\"></div> </button><button jsinstance=\"4\" jstcache=\"685\" style=\"display:none\"></button><button jsinstance=\"5\" jstcache=\"685\" style=\"display:none\"></button><button jsinstance=\"6\" jstcache=\"685\" style=\"display:none\"></button><button jsinstance=\"*7\" jstcache=\"685\" style=\"display:none\"></button> </div> <div style=\"clear:both\"></div> <div class=\"Upo0Ec vmVquc\" jsan=\"7.Upo0Ec,7.vmVquc,t-E5efOUBAMfs\" jstcache=\"636\"> <button jstcache=\"721\" style=\"display:none\"></button> <button aria-label=\" Eén persoon vond de review van Tessa (Tessa.T.) nuttig. Markeer deze als nuttig. \" aria-pressed=\"false\" class=\"GBkF3d\" data-review-id=\"ChdDSUhNMG9nS0VJQ0FnSUR1aHRuZXFBRRAB\" jsaction=\"pane.review.toggleThumbsUp;keydown:pane.review.toggleThumbsUp\" jsan=\"7.GBkF3d,0.aria-pressed,0.data-review-id,0.jslog,0.aria-label,0.title,22.jsaction,t-xgS4YbLs0as\" jslog=\"25807;track:click;metadata:WyIwYWhVS0V3aTdfNzdRaUliN0FoV2JYX0VESGViZUE0WVE0UjRJQWlnQSJd\" jstcache=\"722\" title=\" Eén persoon vond de review van Tessa (Tessa.T.) nuttig. Markeer deze als nuttig. \"> <img alt=\"\" class=\"dSlJg tmpOQ\" jsan=\"7.dSlJg,7.tmpOQ,8.src,0.alt\" jstcache=\"730\" src=\"//www.gstatic.com/images/icons/material/system_gm/1x/thumb_up_gm_grey_18dp.png\"/> <span class=\"znYl0\" jstcache=\"731\"><span class=\"Hzvxle\" jsan=\"7.Hzvxle\" jstcache=\"732\">Like</span><span class=\"pkWtMe\" jsan=\"7.pkWtMe\" jstcache=\"733\">1</span></span> </button> <button aria-label=\"Review van Tessa (Tessa.T.) delen.\" class=\"GBkF3d\" data-review-id=\"ChdDSUhNMG9nS0VJQ0FnSUR1aHRuZXFBRRAB\" jsaction=\"pane.review.share;keydown:pane.review.share\" jsan=\"7.GBkF3d,0.data-review-id,0.jslog,0.aria-label,22.jsaction,t-6WsgiFzJjBI\" jslog=\"32949;track:click\" jstcache=\"723\"> <img alt=\"\" class=\"dSlJg tmpOQ\" jsan=\"7.dSlJg,7.tmpOQ,8.src,0.alt\" jstcache=\"735\" src=\"//www.gstatic.com/images/icons/material/system_gm/1x/share_gm_grey_18dp.png\"/> <span class=\"znYl0\">Delen</span> </button> </div> <div jstcache=\"637\" style=\"display:none\"></div> </div> </div> </div> </div>"
      ]
     },
     "execution_count": 131,
     "metadata": {},
     "output_type": "execute_result"
    }
   ],
   "source": [
    "\n",
    "reviews = response.select('[data-review-id]')\n",
    "r = reviews[0]\n",
    "r"
   ]
  }
 ],
 "metadata": {
  "interpreter": {
   "hash": "06ee543105654ef4f2a3a6e5ce17d587e0cfca75edfe363425d3ccfb944526af"
  },
  "kernelspec": {
   "display_name": "Python 3.7.3 32-bit",
   "language": "python",
   "name": "python3"
  },
  "language_info": {
   "codemirror_mode": {
    "name": "ipython",
    "version": 3
   },
   "file_extension": ".py",
   "mimetype": "text/x-python",
   "name": "python",
   "nbconvert_exporter": "python",
   "pygments_lexer": "ipython3",
   "version": "3.7.3"
  },
  "orig_nbformat": 4
 },
 "nbformat": 4,
 "nbformat_minor": 2
}
